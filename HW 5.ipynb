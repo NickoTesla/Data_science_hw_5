{
 "cells": [
  {
   "cell_type": "code",
   "execution_count": 11,
   "id": "8719b98b",
   "metadata": {},
   "outputs": [],
   "source": [
    "import pandas as pd\n",
    "import matplotlib.pyplot as plt\n",
    "\n",
    "folder_path = \"C:/Users/Mykola/Documents/GitHub/Data_science_hw_5/data\"\n",
    "     "
   ]
  },
  {
   "cell_type": "code",
   "execution_count": 12,
   "id": "398614d5",
   "metadata": {},
   "outputs": [],
   "source": [
    "import pandas as pd\n",
    "import os\n",
    "\n",
    "combined_df = pd.DataFrame()     "
   ]
  },
  {
   "cell_type": "code",
   "execution_count": 13,
   "id": "cdb11fc4",
   "metadata": {},
   "outputs": [],
   "source": [
    "for folder_name in os.listdir(folder_path):\n",
    "    folder = os.path.join(folder_path, folder_name)\n",
    "    if os.path.isdir(folder):\n",
    "        for file_name in os.listdir(folder):\n",
    "            file = os.path.join(folder, file_name)\n",
    "            if file.endswith(\".csv\"):\n",
    "                \n",
    "                data = pd.read_csv(file)\n",
    "                data[\"Activity\"] = folder_name\n",
    "                combined_df = pd.concat([combined_df, data])"
   ]
  },
  {
   "cell_type": "code",
   "execution_count": 14,
   "id": "4a1fd806",
   "metadata": {
    "scrolled": true
   },
   "outputs": [
    {
     "data": {
      "text/html": [
       "<div>\n",
       "<style scoped>\n",
       "    .dataframe tbody tr th:only-of-type {\n",
       "        vertical-align: middle;\n",
       "    }\n",
       "\n",
       "    .dataframe tbody tr th {\n",
       "        vertical-align: top;\n",
       "    }\n",
       "\n",
       "    .dataframe thead th {\n",
       "        text-align: right;\n",
       "    }\n",
       "</style>\n",
       "<table border=\"1\" class=\"dataframe\">\n",
       "  <thead>\n",
       "    <tr style=\"text-align: right;\">\n",
       "      <th></th>\n",
       "      <th>accelerometer_X</th>\n",
       "      <th>accelerometer_Y</th>\n",
       "      <th>accelerometer_Z</th>\n",
       "      <th>Activity</th>\n",
       "    </tr>\n",
       "  </thead>\n",
       "  <tbody>\n",
       "    <tr>\n",
       "      <th>0</th>\n",
       "      <td>1.000776</td>\n",
       "      <td>4.616021</td>\n",
       "      <td>8.576031</td>\n",
       "      <td>idle</td>\n",
       "    </tr>\n",
       "    <tr>\n",
       "      <th>1</th>\n",
       "      <td>0.718261</td>\n",
       "      <td>4.209007</td>\n",
       "      <td>8.446744</td>\n",
       "      <td>idle</td>\n",
       "    </tr>\n",
       "    <tr>\n",
       "      <th>2</th>\n",
       "      <td>-0.909797</td>\n",
       "      <td>-0.282516</td>\n",
       "      <td>9.203311</td>\n",
       "      <td>idle</td>\n",
       "    </tr>\n",
       "    <tr>\n",
       "      <th>3</th>\n",
       "      <td>5.099650</td>\n",
       "      <td>0.148441</td>\n",
       "      <td>8.418014</td>\n",
       "      <td>idle</td>\n",
       "    </tr>\n",
       "    <tr>\n",
       "      <th>4</th>\n",
       "      <td>1.762132</td>\n",
       "      <td>-0.162806</td>\n",
       "      <td>9.251195</td>\n",
       "      <td>idle</td>\n",
       "    </tr>\n",
       "  </tbody>\n",
       "</table>\n",
       "</div>"
      ],
      "text/plain": [
       "   accelerometer_X  accelerometer_Y  accelerometer_Z Activity\n",
       "0         1.000776         4.616021         8.576031     idle\n",
       "1         0.718261         4.209007         8.446744     idle\n",
       "2        -0.909797        -0.282516         9.203311     idle\n",
       "3         5.099650         0.148441         8.418014     idle\n",
       "4         1.762132        -0.162806         9.251195     idle"
      ]
     },
     "execution_count": 14,
     "metadata": {},
     "output_type": "execute_result"
    }
   ],
   "source": [
    "combined_df.head()"
   ]
  },
  {
   "cell_type": "code",
   "execution_count": 15,
   "id": "d917168d",
   "metadata": {},
   "outputs": [
    {
     "data": {
      "text/html": [
       "<div>\n",
       "<style scoped>\n",
       "    .dataframe tbody tr th:only-of-type {\n",
       "        vertical-align: middle;\n",
       "    }\n",
       "\n",
       "    .dataframe tbody tr th {\n",
       "        vertical-align: top;\n",
       "    }\n",
       "\n",
       "    .dataframe thead th {\n",
       "        text-align: right;\n",
       "    }\n",
       "</style>\n",
       "<table border=\"1\" class=\"dataframe\">\n",
       "  <thead>\n",
       "    <tr style=\"text-align: right;\">\n",
       "      <th></th>\n",
       "      <th>accelerometer_X</th>\n",
       "      <th>accelerometer_Y</th>\n",
       "      <th>accelerometer_Z</th>\n",
       "      <th>Activity</th>\n",
       "    </tr>\n",
       "  </thead>\n",
       "  <tbody>\n",
       "    <tr>\n",
       "      <th>25</th>\n",
       "      <td>5.109226</td>\n",
       "      <td>-15.452178</td>\n",
       "      <td>-1.470040</td>\n",
       "      <td>walking</td>\n",
       "    </tr>\n",
       "    <tr>\n",
       "      <th>26</th>\n",
       "      <td>6.373365</td>\n",
       "      <td>-11.741165</td>\n",
       "      <td>-8.226476</td>\n",
       "      <td>walking</td>\n",
       "    </tr>\n",
       "    <tr>\n",
       "      <th>27</th>\n",
       "      <td>3.289633</td>\n",
       "      <td>-9.993398</td>\n",
       "      <td>-0.383072</td>\n",
       "      <td>walking</td>\n",
       "    </tr>\n",
       "    <tr>\n",
       "      <th>28</th>\n",
       "      <td>-2.978387</td>\n",
       "      <td>-3.050213</td>\n",
       "      <td>1.273715</td>\n",
       "      <td>walking</td>\n",
       "    </tr>\n",
       "    <tr>\n",
       "      <th>29</th>\n",
       "      <td>-4.347870</td>\n",
       "      <td>-9.926360</td>\n",
       "      <td>-1.642422</td>\n",
       "      <td>walking</td>\n",
       "    </tr>\n",
       "  </tbody>\n",
       "</table>\n",
       "</div>"
      ],
      "text/plain": [
       "    accelerometer_X  accelerometer_Y  accelerometer_Z Activity\n",
       "25         5.109226       -15.452178        -1.470040  walking\n",
       "26         6.373365       -11.741165        -8.226476  walking\n",
       "27         3.289633        -9.993398        -0.383072  walking\n",
       "28        -2.978387        -3.050213         1.273715  walking\n",
       "29        -4.347870        -9.926360        -1.642422  walking"
      ]
     },
     "execution_count": 15,
     "metadata": {},
     "output_type": "execute_result"
    }
   ],
   "source": [
    "combined_df.tail()"
   ]
  },
  {
   "cell_type": "code",
   "execution_count": 16,
   "id": "514e23a8",
   "metadata": {},
   "outputs": [
    {
     "data": {
      "text/plain": [
       "(193860, 4)"
      ]
     },
     "execution_count": 16,
     "metadata": {},
     "output_type": "execute_result"
    }
   ],
   "source": [
    "combined_df.shape"
   ]
  },
  {
   "cell_type": "code",
   "execution_count": 17,
   "id": "c4f7e34f",
   "metadata": {},
   "outputs": [
    {
     "name": "stdout",
     "output_type": "stream",
     "text": [
      "Розмірність тренувального набору: (155088, 3)\n",
      "Розмірність тестового набору: (38772, 3)\n"
     ]
    }
   ],
   "source": [
    "from sklearn.model_selection import train_test_split\n",
    "\n",
    "X = combined_df[['accelerometer_X', 'accelerometer_Y', 'accelerometer_Z']]\n",
    "y = combined_df['Activity']\n",
    "\n",
    "\n",
    "X_train, X_test, y_train, y_test = train_test_split(X, y, test_size=0.2, random_state=42)\n",
    "\n",
    "print(\"Розмірність тренувального набору:\", X_train.shape)\n",
    "print(\"Розмірність тестового набору:\", X_test.shape)\n"
   ]
  },
  {
   "cell_type": "code",
   "execution_count": 18,
   "id": "3422a499",
   "metadata": {},
   "outputs": [],
   "source": [
    "from sklearn.svm import SVC\n",
    "from sklearn.ensemble import RandomForestClassifier\n",
    "from sklearn.metrics import accuracy_score, confusion_matrix\n",
    "from sklearn.model_selection import GridSearchCV\n",
    "\n",
    "svm_params = {'C': [0.1, 1, 10], 'kernel': ['linear', 'rbf', 'poly'], 'gamma': ['scale', 'auto']}\n",
    "\n",
    "rf_params = {'n_estimators': [50, 100, 200], 'max_depth': [None, 10, 20], 'min_samples_split': [2, 5, 10]}\n"
   ]
  },
  {
   "cell_type": "code",
   "execution_count": null,
   "id": "1b868473",
   "metadata": {},
   "outputs": [],
   "source": [
    "svm_model = GridSearchCV(SVC(), svm_params, cv=5)\n",
    "svm_model.fit(X_train, y_train)"
   ]
  },
  {
   "cell_type": "code",
   "execution_count": null,
   "id": "65def1b5",
   "metadata": {},
   "outputs": [],
   "source": [
    "rf_model = GridSearchCV(RandomForestClassifier(), rf_params, cv=5)\n",
    "rf_model.fit(X_train, y_train)"
   ]
  },
  {
   "cell_type": "code",
   "execution_count": null,
   "id": "0b1c4436",
   "metadata": {},
   "outputs": [],
   "source": [
    "svm_pred = svm_model.predict(X_test)\n",
    "rf_pred = rf_model.predict(X_test)"
   ]
  },
  {
   "cell_type": "code",
   "execution_count": null,
   "id": "69ec1208",
   "metadata": {},
   "outputs": [],
   "source": [
    "svm_accuracy = accuracy_score(y_test, svm_pred)\n",
    "rf_accuracy = accuracy_score(y_test, rf_pred)\n",
    "\n",
    "svm_conf_matrix = confusion_matrix(y_test, svm_pred)\n",
    "rf_conf_matrix = confusion_matrix(y_test, rf_pred)"
   ]
  },
  {
   "cell_type": "code",
   "execution_count": null,
   "id": "6b7b267c",
   "metadata": {},
   "outputs": [],
   "source": [
    "print(\"Точність SVM:\", svm_accuracy)\n",
    "print(\"Матриця плутанини SVM:\\n\", svm_conf_matrix)\n",
    "\n",
    "print(\"\\nТочність випадкового лісу:\", rf_accuracy)\n",
    "print(\"Матриця плутанини випадкового лісу:\\n\", rf_conf_matrix)"
   ]
  }
 ],
 "metadata": {
  "kernelspec": {
   "display_name": "Python 3 (ipykernel)",
   "language": "python",
   "name": "python3"
  },
  "language_info": {
   "codemirror_mode": {
    "name": "ipython",
    "version": 3
   },
   "file_extension": ".py",
   "mimetype": "text/x-python",
   "name": "python",
   "nbconvert_exporter": "python",
   "pygments_lexer": "ipython3",
   "version": "3.11.4"
  }
 },
 "nbformat": 4,
 "nbformat_minor": 5
}
